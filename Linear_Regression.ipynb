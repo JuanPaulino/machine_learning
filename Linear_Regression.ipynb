{
  "nbformat": 4,
  "nbformat_minor": 0,
  "metadata": {
    "colab": {
      "name": "Linear Regression.ipynb",
      "provenance": [],
      "collapsed_sections": []
    },
    "kernelspec": {
      "name": "python3",
      "display_name": "Python 3"
    }
  },
  "cells": [
    {
      "cell_type": "code",
      "metadata": {
        "id": "OE-mzWAjmAWn",
        "colab_type": "code",
        "colab": {}
      },
      "source": [
        "import torch\n",
        "import numpy as np\n",
        "# Libreria para trabajar con redes neuronales, regresiones lineales, etc..\n",
        "import torch.nn as nn\n",
        "# Libreria para optimizar los gracientes.\n",
        "import torch.optim as optim\n",
        "# Libreria para visualizar graficas.\n",
        "import matplotlib.pyplot as plt"
      ],
      "execution_count": 0,
      "outputs": []
    },
    {
      "cell_type": "markdown",
      "metadata": {
        "id": "MSSFB4t4Dt-w",
        "colab_type": "text"
      },
      "source": [
        "# Regresión Lineal\n",
        "\n",
        "---\n",
        "\n"
      ]
    },
    {
      "cell_type": "code",
      "metadata": {
        "id": "fabF56QvD2_G",
        "colab_type": "code",
        "colab": {
          "base_uri": "https://localhost:8080/",
          "height": 283
        },
        "outputId": "93ac1f31-7f49-4acb-8ad2-c14b879de4c3"
      },
      "source": [
        "car_prices = [5, 6, 7, 8 ,9, 10]\n",
        "units_sold = [9, 8, 7, 6, 5, 4]\n",
        "plt.scatter(car_prices, units_sold)"
      ],
      "execution_count": 23,
      "outputs": [
        {
          "output_type": "execute_result",
          "data": {
            "text/plain": [
              "<matplotlib.collections.PathCollection at 0x7f0a4ad469e8>"
            ]
          },
          "metadata": {
            "tags": []
          },
          "execution_count": 23
        },
        {
          "output_type": "display_data",
          "data": {
            "image/png": "[encoded data removed]",
            "text/plain": [
              "<Figure size 432x288 with 1 Axes>"
            ]
          },
          "metadata": {
            "tags": []
          }
        }
      ]
    },
    {
      "cell_type": "markdown",
      "metadata": {
        "id": "mdRXosswKiKz",
        "colab_type": "text"
      },
      "source": [
        "La grafica muestra que a mayor precio menor numero de veiculos vendidos."
      ]
    },
    {
      "cell_type": "code",
      "metadata": {
        "id": "pcpbdluwGhFS",
        "colab_type": "code",
        "colab": {
          "base_uri": "https://localhost:8080/",
          "height": 125
        },
        "outputId": "4260b74f-9acc-4872-bbbe-8bc39548b2ee"
      },
      "source": [
        "prices_array = np.array(car_prices).reshape(-1, 1)\n",
        "units_array = np.array(units_sold).reshape(-1, 1)\n",
        "prices_array"
      ],
      "execution_count": 7,
      "outputs": [
        {
          "output_type": "execute_result",
          "data": {
            "text/plain": [
              "array([[ 5],\n",
              "       [ 6],\n",
              "       [ 7],\n",
              "       [ 8],\n",
              "       [ 9],\n",
              "       [10]])"
            ]
          },
          "metadata": {
            "tags": []
          },
          "execution_count": 7
        }
      ]
    },
    {
      "cell_type": "markdown",
      "metadata": {
        "id": "1ElOjjhpLEhD",
        "colab_type": "text"
      },
      "source": [
        "Paso el array a un **array de numpy** para trabajar con tensores."
      ]
    },
    {
      "cell_type": "code",
      "metadata": {
        "id": "YKKXUINmHCSW",
        "colab_type": "code",
        "colab": {
          "base_uri": "https://localhost:8080/",
          "height": 125
        },
        "outputId": "599791ff-419a-4ac9-91f6-24c5587ca40d"
      },
      "source": [
        "prices = torch.from_numpy(prices_array).float().requires_grad_(True)\n",
        "units = torch.from_numpy(units_array).float()\n",
        "prices, prices.shape"
      ],
      "execution_count": 25,
      "outputs": [
        {
          "output_type": "execute_result",
          "data": {
            "text/plain": [
              "(tensor([[ 5.],\n",
              "         [ 6.],\n",
              "         [ 7.],\n",
              "         [ 8.],\n",
              "         [ 9.],\n",
              "         [10.]], requires_grad=True), torch.Size([6, 1]))"
            ]
          },
          "metadata": {
            "tags": []
          },
          "execution_count": 25
        }
      ]
    },
    {
      "cell_type": "markdown",
      "metadata": {
        "id": "5XvDXLdxLI3s",
        "colab_type": "text"
      },
      "source": [
        "Paso el array de numpy a **tensor**."
      ]
    },
    {
      "cell_type": "code",
      "metadata": {
        "id": "mBKcksSAHq2E",
        "colab_type": "code",
        "colab": {
          "base_uri": "https://localhost:8080/",
          "height": 301
        },
        "outputId": "ceaed23d-a92a-4c9a-91a6-20994aae3d69"
      },
      "source": [
        "model = nn.Linear(1, 1)\n",
        "loss_function = nn.MSELoss()\n",
        "optimize = optim.SGD(model.parameters(), lr=0.015)\n",
        "losses = []\n",
        "\n",
        "iterations = 2000\n",
        "for i in range(iterations):\n",
        "  pred = model(prices)\n",
        "  loss = loss_function(pred, units)\n",
        "  losses.append(loss.data)\n",
        "  optimize.zero_grad()\n",
        "  loss.backward()\n",
        "  optimize.step()\n",
        "print(float(loss))\n",
        "plt.plot(range(iterations), losses)\n"
      ],
      "execution_count": 20,
      "outputs": [
        {
          "output_type": "stream",
          "text": [
            "0.01634061150252819\n"
          ],
          "name": "stdout"
        },
        {
          "output_type": "execute_result",
          "data": {
            "text/plain": [
              "[<matplotlib.lines.Line2D at 0x7f0a4adf9cc0>]"
            ]
          },
          "metadata": {
            "tags": []
          },
          "execution_count": 20
        },
        {
          "output_type": "display_data",
          "data": {
            "image/png": "[encoded data removed]",
            "text/plain": [
              "<Figure size 432x288 with 1 Axes>"
            ]
          },
          "metadata": {
            "tags": []
          }
        }
      ]
    },
    {
      "cell_type": "markdown",
      "metadata": {
        "id": "GBCRK07qGgzO",
        "colab_type": "text"
      },
      "source": [
        ""
      ]
    }
  ]
}