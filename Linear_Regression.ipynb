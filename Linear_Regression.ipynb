{
  "nbformat": 4,
  "nbformat_minor": 0,
  "metadata": {
    "colab": {
      "name": "Linear Regression.ipynb",
      "provenance": [],
      "collapsed_sections": []
    },
    "kernelspec": {
      "name": "python3",
      "display_name": "Python 3"
    }
  },
  "cells": [
    {
      "cell_type": "code",
      "metadata": {
        "id": "OE-mzWAjmAWn",
        "colab_type": "code",
        "colab": {}
      },
      "source": [
        "import torch\n",
        "import numpy as np\n",
        "# Libreria para trabajar con redes neuronales, regresiones lineales, etc..\n",
        "import torch.nn as nn\n",
        "# Libreria para optimizar los gracientes.\n",
        "import torch.optim as optim\n",
        "# Libreria para visualizar graficas.\n",
        "import matplotlib.pyplot as plt"
      ],
      "execution_count": 0,
      "outputs": []
    },
    {
      "cell_type": "markdown",
      "metadata": {
        "id": "MSSFB4t4Dt-w",
        "colab_type": "text"
      },
      "source": [
        "# Regresión Lineal\n",
        "\n",
        "---\n",
        "\n"
      ]
    },
    {
      "cell_type": "code",
      "metadata": {
        "id": "fabF56QvD2_G",
        "colab_type": "code",
        "outputId": "7965f1d3-5c56-4046-dc61-7dfc0337b63c",
        "colab": {
          "base_uri": "https://localhost:8080/",
          "height": 283
        }
      },
      "source": [
        "car_prices = [5, 6, 7, 8 ,9, 10]\n",
        "units_sold = [9, 8, 7, 6, 5, 4]\n",
        "plt.scatter(car_prices, units_sold)"
      ],
      "execution_count": 52,
      "outputs": [
        {
          "output_type": "execute_result",
          "data": {
            "text/plain": [
              "<matplotlib.collections.PathCollection at 0x7f97d3d0bbe0>"
            ]
          },
          "metadata": {
            "tags": []
          },
          "execution_count": 52
        },
        {
          "output_type": "display_data",
          "data": {
            "image/png": "[encoded data removed]",
            "text/plain": [
              "<Figure size 432x288 with 1 Axes>"
            ]
          },
          "metadata": {
            "tags": []
          }
        }
      ]
    },
    {
      "cell_type": "markdown",
      "metadata": {
        "id": "mdRXosswKiKz",
        "colab_type": "text"
      },
      "source": [
        "La grafica muestra que a mayor precio menor numero de veiculos vendidos.\n",
        "\n"
      ]
    },
    {
      "cell_type": "code",
      "metadata": {
        "id": "pcpbdluwGhFS",
        "colab_type": "code",
        "outputId": "9ef24f1c-ee0a-4059-d54d-a6a8a1a4e830",
        "colab": {
          "base_uri": "https://localhost:8080/",
          "height": 125
        }
      },
      "source": [
        "prices_array = np.array(car_prices).reshape(-1, 1)\n",
        "units_array = np.array(units_sold).reshape(-1, 1)\n",
        "prices_array"
      ],
      "execution_count": 53,
      "outputs": [
        {
          "output_type": "execute_result",
          "data": {
            "text/plain": [
              "array([[ 5],\n",
              "       [ 6],\n",
              "       [ 7],\n",
              "       [ 8],\n",
              "       [ 9],\n",
              "       [10]])"
            ]
          },
          "metadata": {
            "tags": []
          },
          "execution_count": 53
        }
      ]
    },
    {
      "cell_type": "markdown",
      "metadata": {
        "id": "1ElOjjhpLEhD",
        "colab_type": "text"
      },
      "source": [
        "Paso el array a un **array de numpy** para trabajar con tensores."
      ]
    },
    {
      "cell_type": "code",
      "metadata": {
        "id": "YKKXUINmHCSW",
        "colab_type": "code",
        "outputId": "e10f5842-8991-47e2-9f69-74bfd2d4aa78",
        "colab": {
          "base_uri": "https://localhost:8080/",
          "height": 125
        }
      },
      "source": [
        "prices = torch.from_numpy(prices_array).float().requires_grad_(True)\n",
        "units = torch.from_numpy(units_array).float()\n",
        "prices, prices.shape"
      ],
      "execution_count": 54,
      "outputs": [
        {
          "output_type": "execute_result",
          "data": {
            "text/plain": [
              "(tensor([[ 5.],\n",
              "         [ 6.],\n",
              "         [ 7.],\n",
              "         [ 8.],\n",
              "         [ 9.],\n",
              "         [10.]], requires_grad=True), torch.Size([6, 1]))"
            ]
          },
          "metadata": {
            "tags": []
          },
          "execution_count": 54
        }
      ]
    },
    {
      "cell_type": "markdown",
      "metadata": {
        "id": "5XvDXLdxLI3s",
        "colab_type": "text"
      },
      "source": [
        "Paso el array de numpy a **tensor**."
      ]
    },
    {
      "cell_type": "code",
      "metadata": {
        "id": "mBKcksSAHq2E",
        "colab_type": "code",
        "outputId": "41736381-b8fa-42ed-eab5-9d7bd7126160",
        "colab": {
          "base_uri": "https://localhost:8080/",
          "height": 301
        }
      },
      "source": [
        "# Regresión lineal de dimensión 1.\n",
        "model = nn.Linear(1, 1)\n",
        "# Funcion de perdida: Media del cuadrado de los errores.\n",
        "loss_function = nn.MSELoss()\n",
        "# SGD (Stochastic Gradient Descent)\n",
        "optimize = optim.SGD(model.parameters(), lr=0.015)\n",
        "\n",
        "# Trainin Loop\n",
        "losses = []\n",
        "iterations = 2000\n",
        "for i in range(iterations):\n",
        "  prediction = model(prices)\n",
        "  loss = loss_function(prediction, units)\n",
        "  losses.append(loss.data)\n",
        "  optimize.zero_grad()\n",
        "  loss.backward()\n",
        "  optimize.step()\n",
        "\n",
        "# Imprimo la perdida y una gráfica de las perdidas segun la iteración.\n",
        "print(float(loss))\n",
        "plt.plot(range(iterations), losses)\n"
      ],
      "execution_count": 55,
      "outputs": [
        {
          "output_type": "stream",
          "text": [
            "0.025597430765628815\n"
          ],
          "name": "stdout"
        },
        {
          "output_type": "execute_result",
          "data": {
            "text/plain": [
              "[<matplotlib.lines.Line2D at 0x7f97cf3f4860>]"
            ]
          },
          "metadata": {
            "tags": []
          },
          "execution_count": 55
        },
        {
          "output_type": "display_data",
          "data": {
            "image/png": "[encoded data removed]",
            "text/plain": [
              "<Figure size 432x288 with 1 Axes>"
            ]
          },
          "metadata": {
            "tags": []
          }
        }
      ]
    },
    {
      "cell_type": "code",
      "metadata": {
        "id": "DKYj4-jFxupb",
        "colab_type": "code",
        "colab": {
          "base_uri": "https://localhost:8080/",
          "height": 35
        },
        "outputId": "a03a39aa-d642-4da5-8af0-287441bd5635"
      },
      "source": [
        "example_car_price = torch.Tensor([[5.0]])\n",
        "sales_prediction = model(example_car_price)\n",
        "sales_prediction"
      ],
      "execution_count": 56,
      "outputs": [
        {
          "output_type": "execute_result",
          "data": {
            "text/plain": [
              "tensor([[8.7369]], grad_fn=<AddmmBackward>)"
            ]
          },
          "metadata": {
            "tags": []
          },
          "execution_count": 56
        }
      ]
    },
    {
      "cell_type": "markdown",
      "metadata": {
        "id": "GBCRK07qGgzO",
        "colab_type": "text"
      },
      "source": [
        ""
      ]
    }
  ]
}
